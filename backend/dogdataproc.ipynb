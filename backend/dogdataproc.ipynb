{
 "cells": [
  {
   "cell_type": "code",
   "execution_count": null,
   "id": "9a9245b6",
   "metadata": {},
   "outputs": [
    {
     "name": "stdout",
     "output_type": "stream",
     "text": [
      "Downloading from https://www.kaggle.com/api/v1/datasets/download/sujaykapadnis/dog-breeds?dataset_version_number=2...\n"
     ]
    },
    {
     "name": "stderr",
     "output_type": "stream",
     "text": [
      "100%|██████████| 26.6k/26.6k [00:00<00:00, 14.1MB/s]"
     ]
    },
    {
     "name": "stdout",
     "output_type": "stream",
     "text": [
      "Extracting files...\n",
      "Path to dataset files: C:\\Users\\sirer\\.cache\\kagglehub\\datasets\\sujaykapadnis\\dog-breeds\\versions\\2\n"
     ]
    },
    {
     "name": "stderr",
     "output_type": "stream",
     "text": [
      "\n"
     ]
    }
   ],
   "source": [
    "import kagglehub\n",
    "path = kagglehub.dataset_download(\"sujaykapadnis/dog-breeds\")\n",
    "print(\"Path to dataset files:\", path)"
   ]
  },
  {
   "cell_type": "code",
   "execution_count": 75,
   "id": "81b73dfe",
   "metadata": {},
   "outputs": [
    {
     "name": "stdout",
     "output_type": "stream",
     "text": [
      "Retrievers (Labrador)\n"
     ]
    }
   ],
   "source": [
    "import pandas as pd\n",
    "import numpy as np\n",
    "import pandas as pd\n",
    "import random\n",
    "\n",
    "df = pd.read_csv(\"archive/breed_traits.csv\")\n",
    "l = list(df.iloc[0])\n",
    "breed = list(df[\"Breed\"])\n",
    "print(breed[0])"
   ]
  },
  {
   "cell_type": "code",
   "execution_count": null,
   "id": "a9233ada",
   "metadata": {},
   "outputs": [],
   "source": [
    "quals=[]\n",
    "for i in range(len(df)):\n",
    "    dog = list(df.iloc[i])\n",
    "    quals.append([dog[3],2,1,1,5,dog[1],2,1,1,5])"
   ]
  },
  {
   "cell_type": "code",
   "execution_count": 47,
   "id": "ddd35e33",
   "metadata": {},
   "outputs": [
    {
     "name": "stdout",
     "output_type": "stream",
     "text": [
      "4.47501203271628\n",
      "[[np.int64(5), 0.5, 1, 1, 5, np.int64(5), 0.5, 1, 1, 5], [np.int64(4), 0.5, 1, 1, 5, np.int64(5), 0.5, 1, 1, 5], [np.int64(3), 0.5, 1, 1, 5, np.int64(5), 0.5, 1, 1, 5], [np.int64(5), 0.5, 1, 1, 5, np.int64(5), 0.5, 1, 1, 5], [np.int64(3), 0.5, 1, 1, 5, np.int64(4), 0.5, 1, 1, 5], [np.int64(3), 0.5, 1, 1, 5, np.int64(5), 0.5, 1, 1, 5], [np.int64(5), 0.5, 1, 1, 5, np.int64(3), 0.5, 1, 1, 5], [np.int64(3), 0.5, 1, 1, 5, np.int64(5), 0.5, 1, 1, 5], [np.int64(4), 0.5, 1, 1, 5, np.int64(5), 0.5, 1, 1, 5], [np.int64(4), 0.5, 1, 1, 5, np.int64(5), 0.5, 1, 1, 5], [np.int64(4), 0.5, 1, 1, 5, np.int64(5), 0.5, 1, 1, 5], [np.int64(3), 0.5, 1, 1, 5, np.int64(3), 0.5, 1, 1, 5], [np.int64(3), 0.5, 1, 1, 5, np.int64(5), 0.5, 1, 1, 5], [np.int64(3), 0.5, 1, 1, 5, np.int64(4), 0.5, 1, 1, 5], [np.int64(3), 0.5, 1, 1, 5, np.int64(5), 0.5, 1, 1, 5], [np.int64(5), 0.5, 1, 1, 5, np.int64(5), 0.5, 1, 1, 5], [np.int64(5), 0.5, 1, 1, 5, np.int64(5), 0.5, 1, 1, 5], [np.int64(3), 0.5, 1, 1, 5, np.int64(5), 0.5, 1, 1, 5], [np.int64(3), 0.5, 1, 1, 5, np.int64(5), 0.5, 1, 1, 5], [np.int64(5), 0.5, 1, 1, 5, np.int64(5), 0.5, 1, 1, 5], [np.int64(4), 0.5, 1, 1, 5, np.int64(5), 0.5, 1, 1, 5], [np.int64(5), 0.5, 1, 1, 5, np.int64(5), 0.5, 1, 1, 5], [np.int64(3), 0.5, 1, 1, 5, np.int64(5), 0.5, 1, 1, 5], [np.int64(5), 0.5, 1, 1, 5, np.int64(5), 0.5, 1, 1, 5], [np.int64(3), 0.5, 1, 1, 5, np.int64(4), 0.5, 1, 1, 5], [np.int64(4), 0.5, 1, 1, 5, np.int64(5), 0.5, 1, 1, 5], [np.int64(5), 0.5, 1, 1, 5, np.int64(5), 0.5, 1, 1, 5], [np.int64(4), 0.5, 1, 1, 5, np.int64(3), 0.5, 1, 1, 5], [np.int64(4), 0.5, 1, 1, 5, np.int64(5), 0.5, 1, 1, 5], [np.int64(5), 0.5, 1, 1, 5, np.int64(4), 0.5, 1, 1, 5], [np.int64(5), 0.5, 1, 1, 5, np.int64(5), 0.5, 1, 1, 5], [np.int64(3), 0.5, 1, 1, 5, np.int64(5), 0.5, 1, 1, 5], [np.int64(3), 0.5, 1, 1, 5, np.int64(5), 0.5, 1, 1, 5], [np.int64(3), 0.5, 1, 1, 5, np.int64(4), 0.5, 1, 1, 5], [np.int64(4), 0.5, 1, 1, 5, np.int64(5), 0.5, 1, 1, 5], [np.int64(5), 0.5, 1, 1, 5, np.int64(3), 0.5, 1, 1, 5], [np.int64(3), 0.5, 1, 1, 5, np.int64(3), 0.5, 1, 1, 5], [np.int64(3), 0.5, 1, 1, 5, np.int64(5), 0.5, 1, 1, 5], [np.int64(3), 0.5, 1, 1, 5, np.int64(5), 0.5, 1, 1, 5], [np.int64(3), 0.5, 1, 1, 5, np.int64(4), 0.5, 1, 1, 5], [np.int64(5), 0.5, 1, 1, 5, np.int64(5), 0.5, 1, 1, 5], [np.int64(3), 0.5, 1, 1, 5, np.int64(5), 0.5, 1, 1, 5], [np.int64(3), 0.5, 1, 1, 5, np.int64(5), 0.5, 1, 1, 5], [np.int64(3), 0.5, 1, 1, 5, np.int64(5), 0.5, 1, 1, 5], [np.int64(5), 0.5, 1, 1, 5, np.int64(5), 0.5, 1, 1, 5], [np.int64(3), 0.5, 1, 1, 5, np.int64(4), 0.5, 1, 1, 5], [np.int64(5), 0.5, 1, 1, 5, np.int64(5), 0.5, 1, 1, 5], [np.int64(1), 0.5, 1, 1, 5, np.int64(3), 0.5, 1, 1, 5], [np.int64(4), 0.5, 1, 1, 5, np.int64(5), 0.5, 1, 1, 5], [np.int64(3), 0.5, 1, 1, 5, np.int64(4), 0.5, 1, 1, 5], [np.int64(3), 0.5, 1, 1, 5, np.int64(5), 0.5, 1, 1, 5], [np.int64(3), 0.5, 1, 1, 5, np.int64(5), 0.5, 1, 1, 5], [np.int64(3), 0.5, 1, 1, 5, np.int64(5), 0.5, 1, 1, 5], [np.int64(3), 0.5, 1, 1, 5, np.int64(3), 0.5, 1, 1, 5], [np.int64(3), 0.5, 1, 1, 5, np.int64(4), 0.5, 1, 1, 5], [np.int64(3), 0.5, 1, 1, 5, np.int64(5), 0.5, 1, 1, 5], [np.int64(2), 0.5, 1, 1, 5, np.int64(5), 0.5, 1, 1, 5], [np.int64(3), 0.5, 1, 1, 5, np.int64(5), 0.5, 1, 1, 5], [np.int64(5), 0.5, 1, 1, 5, np.int64(5), 0.5, 1, 1, 5], [np.int64(3), 0.5, 1, 1, 5, np.int64(5), 0.5, 1, 1, 5], [np.int64(3), 0.5, 1, 1, 5, np.int64(4), 0.5, 1, 1, 5], [np.int64(3), 0.5, 1, 1, 5, np.int64(3), 0.5, 1, 1, 5], [np.int64(3), 0.5, 1, 1, 5, np.int64(5), 0.5, 1, 1, 5], [np.int64(1), 0.5, 1, 1, 5, np.int64(4), 0.5, 1, 1, 5], [np.int64(3), 0.5, 1, 1, 5, np.int64(3), 0.5, 1, 1, 5], [np.int64(3), 0.5, 1, 1, 5, np.int64(4), 0.5, 1, 1, 5], [np.int64(3), 0.5, 1, 1, 5, np.int64(5), 0.5, 1, 1, 5], [np.int64(3), 0.5, 1, 1, 5, np.int64(5), 0.5, 1, 1, 5], [np.int64(5), 0.5, 1, 1, 5, np.int64(5), 0.5, 1, 1, 5], [np.int64(3), 0.5, 1, 1, 5, np.int64(5), 0.5, 1, 1, 5], [np.int64(3), 0.5, 1, 1, 5, np.int64(5), 0.5, 1, 1, 5], [np.int64(5), 0.5, 1, 1, 5, np.int64(5), 0.5, 1, 1, 5], [np.int64(3), 0.5, 1, 1, 5, np.int64(4), 0.5, 1, 1, 5], [np.int64(4), 0.5, 1, 1, 5, np.int64(5), 0.5, 1, 1, 5], [np.int64(5), 0.5, 1, 1, 5, np.int64(5), 0.5, 1, 1, 5], [np.int64(3), 0.5, 1, 1, 5, np.int64(5), 0.5, 1, 1, 5], [np.int64(4), 0.5, 1, 1, 5, np.int64(5), 0.5, 1, 1, 5], [np.int64(3), 0.5, 1, 1, 5, np.int64(5), 0.5, 1, 1, 5], [np.int64(3), 0.5, 1, 1, 5, np.int64(4), 0.5, 1, 1, 5], [np.int64(5), 0.5, 1, 1, 5, np.int64(5), 0.5, 1, 1, 5], [np.int64(3), 0.5, 1, 1, 5, np.int64(5), 0.5, 1, 1, 5], [np.int64(3), 0.5, 1, 1, 5, np.int64(5), 0.5, 1, 1, 5], [np.int64(3), 0.5, 1, 1, 5, np.int64(5), 0.5, 1, 1, 5], [np.int64(2), 0.5, 1, 1, 5, np.int64(4), 0.5, 1, 1, 5], [np.int64(3), 0.5, 1, 1, 5, np.int64(1), 0.5, 1, 1, 5], [np.int64(3), 0.5, 1, 1, 5, np.int64(3), 0.5, 1, 1, 5], [np.int64(5), 0.5, 1, 1, 5, np.int64(3), 0.5, 1, 1, 5], [np.int64(5), 0.5, 1, 1, 5, np.int64(5), 0.5, 1, 1, 5], [np.int64(3), 0.5, 1, 1, 5, np.int64(4), 0.5, 1, 1, 5], [np.int64(4), 0.5, 1, 1, 5, np.int64(5), 0.5, 1, 1, 5], [np.int64(3), 0.5, 1, 1, 5, np.int64(5), 0.5, 1, 1, 5], [np.int64(3), 0.5, 1, 1, 5, np.int64(5), 0.5, 1, 1, 5], [np.int64(3), 0.5, 1, 1, 5, np.int64(5), 0.5, 1, 1, 5], [np.int64(3), 0.5, 1, 1, 5, np.int64(3), 0.5, 1, 1, 5], [np.int64(3), 0.5, 1, 1, 5, np.int64(5), 0.5, 1, 1, 5], [np.int64(5), 0.5, 1, 1, 5, np.int64(5), 0.5, 1, 1, 5], [np.int64(3), 0.5, 1, 1, 5, np.int64(4), 0.5, 1, 1, 5], [np.int64(3), 0.5, 1, 1, 5, np.int64(5), 0.5, 1, 1, 5], [np.int64(3), 0.5, 1, 1, 5, np.int64(5), 0.5, 1, 1, 5], [np.int64(3), 0.5, 1, 1, 5, np.int64(3), 0.5, 1, 1, 5], [np.int64(4), 0.5, 1, 1, 5, np.int64(5), 0.5, 1, 1, 5], [np.int64(5), 0.5, 1, 1, 5, np.int64(5), 0.5, 1, 1, 5], [np.int64(3), 0.5, 1, 1, 5, np.int64(3), 0.5, 1, 1, 5], [np.int64(3), 0.5, 1, 1, 5, np.int64(5), 0.5, 1, 1, 5], [np.int64(3), 0.5, 1, 1, 5, np.int64(5), 0.5, 1, 1, 5], [np.int64(3), 0.5, 1, 1, 5, np.int64(3), 0.5, 1, 1, 5], [np.int64(3), 0.5, 1, 1, 5, np.int64(5), 0.5, 1, 1, 5], [np.int64(3), 0.5, 1, 1, 5, np.int64(5), 0.5, 1, 1, 5], [np.int64(3), 0.5, 1, 1, 5, np.int64(5), 0.5, 1, 1, 5], [np.int64(4), 0.5, 1, 1, 5, np.int64(5), 0.5, 1, 1, 5], [np.int64(5), 0.5, 1, 1, 5, np.int64(5), 0.5, 1, 1, 5], [np.int64(3), 0.5, 1, 1, 5, np.int64(5), 0.5, 1, 1, 5], [np.int64(3), 0.5, 1, 1, 5, np.int64(5), 0.5, 1, 1, 5], [np.int64(3), 0.5, 1, 1, 5, np.int64(5), 0.5, 1, 1, 5], [np.int64(5), 0.5, 1, 1, 5, np.int64(5), 0.5, 1, 1, 5], [np.int64(5), 0.5, 1, 1, 5, np.int64(5), 0.5, 1, 1, 5], [np.int64(3), 0.5, 1, 1, 5, np.int64(3), 0.5, 1, 1, 5], [np.int64(3), 0.5, 1, 1, 5, np.int64(5), 0.5, 1, 1, 5], [np.int64(3), 0.5, 1, 1, 5, np.int64(5), 0.5, 1, 1, 5], [np.int64(1), 0.5, 1, 1, 5, np.int64(5), 0.5, 1, 1, 5], [np.int64(3), 0.5, 1, 1, 5, np.int64(3), 0.5, 1, 1, 5], [np.int64(3), 0.5, 1, 1, 5, np.int64(3), 0.5, 1, 1, 5], [np.int64(2), 0.5, 1, 1, 5, np.int64(5), 0.5, 1, 1, 5], [np.int64(3), 0.5, 1, 1, 5, np.int64(5), 0.5, 1, 1, 5], [np.int64(5), 0.5, 1, 1, 5, np.int64(4), 0.5, 1, 1, 5], [np.int64(3), 0.5, 1, 1, 5, np.int64(3), 0.5, 1, 1, 5], [np.int64(5), 0.5, 1, 1, 5, np.int64(4), 0.5, 1, 1, 5], [np.int64(4), 0.5, 1, 1, 5, np.int64(5), 0.5, 1, 1, 5], [np.int64(3), 0.5, 1, 1, 5, np.int64(5), 0.5, 1, 1, 5], [np.int64(3), 0.5, 1, 1, 5, np.int64(5), 0.5, 1, 1, 5], [np.int64(3), 0.5, 1, 1, 5, np.int64(5), 0.5, 1, 1, 5], [np.int64(3), 0.5, 1, 1, 5, np.int64(5), 0.5, 1, 1, 5], [np.int64(2), 0.5, 1, 1, 5, np.int64(5), 0.5, 1, 1, 5], [np.int64(3), 0.5, 1, 1, 5, np.int64(3), 0.5, 1, 1, 5], [np.int64(3), 0.5, 1, 1, 5, np.int64(4), 0.5, 1, 1, 5], [np.int64(3), 0.5, 1, 1, 5, np.int64(5), 0.5, 1, 1, 5], [np.int64(5), 0.5, 1, 1, 5, np.int64(3), 0.5, 1, 1, 5], [np.int64(5), 0.5, 1, 1, 5, np.int64(5), 0.5, 1, 1, 5], [np.int64(3), 0.5, 1, 1, 5, np.int64(5), 0.5, 1, 1, 5], [np.int64(3), 0.5, 1, 1, 5, np.int64(4), 0.5, 1, 1, 5], [np.int64(3), 0.5, 1, 1, 5, np.int64(3), 0.5, 1, 1, 5], [np.int64(4), 0.5, 1, 1, 5, np.int64(4), 0.5, 1, 1, 5], [np.int64(3), 0.5, 1, 1, 5, np.int64(5), 0.5, 1, 1, 5], [np.int64(3), 0.5, 1, 1, 5, np.int64(5), 0.5, 1, 1, 5], [np.int64(5), 0.5, 1, 1, 5, np.int64(4), 0.5, 1, 1, 5], [np.int64(5), 0.5, 1, 1, 5, np.int64(5), 0.5, 1, 1, 5], [np.int64(3), 0.5, 1, 1, 5, np.int64(5), 0.5, 1, 1, 5], [np.int64(3), 0.5, 1, 1, 5, np.int64(5), 0.5, 1, 1, 5], [np.int64(3), 0.5, 1, 1, 5, np.int64(5), 0.5, 1, 1, 5], [np.int64(3), 0.5, 1, 1, 5, np.int64(3), 0.5, 1, 1, 5], [np.int64(3), 0.5, 1, 1, 5, np.int64(3), 0.5, 1, 1, 5], [np.int64(5), 0.5, 1, 1, 5, np.int64(5), 0.5, 1, 1, 5], [np.int64(5), 0.5, 1, 1, 5, np.int64(5), 0.5, 1, 1, 5], [np.int64(4), 0.5, 1, 1, 5, np.int64(5), 0.5, 1, 1, 5], [np.int64(3), 0.5, 1, 1, 5, np.int64(5), 0.5, 1, 1, 5], [np.int64(3), 0.5, 1, 1, 5, np.int64(5), 0.5, 1, 1, 5], [np.int64(5), 0.5, 1, 1, 5, np.int64(5), 0.5, 1, 1, 5], [np.int64(3), 0.5, 1, 1, 5, np.int64(3), 0.5, 1, 1, 5], [np.int64(3), 0.5, 1, 1, 5, np.int64(5), 0.5, 1, 1, 5], [np.int64(4), 0.5, 1, 1, 5, np.int64(5), 0.5, 1, 1, 5], [np.int64(3), 0.5, 1, 1, 5, np.int64(5), 0.5, 1, 1, 5], [np.int64(3), 0.5, 1, 1, 5, np.int64(5), 0.5, 1, 1, 5], [np.int64(3), 0.5, 1, 1, 5, np.int64(3), 0.5, 1, 1, 5], [np.int64(5), 0.5, 1, 1, 5, np.int64(4), 0.5, 1, 1, 5], [np.int64(3), 0.5, 1, 1, 5, np.int64(5), 0.5, 1, 1, 5], [np.int64(5), 0.5, 1, 1, 5, np.int64(5), 0.5, 1, 1, 5], [np.int64(0), 0.5, 1, 1, 5, np.int64(0), 0.5, 1, 1, 5], [np.int64(3), 0.5, 1, 1, 5, np.int64(5), 0.5, 1, 1, 5], [np.int64(3), 0.5, 1, 1, 5, np.int64(5), 0.5, 1, 1, 5], [np.int64(5), 0.5, 1, 1, 5, np.int64(5), 0.5, 1, 1, 5], [np.int64(5), 0.5, 1, 1, 5, np.int64(5), 0.5, 1, 1, 5], [np.int64(3), 0.5, 1, 1, 5, np.int64(5), 0.5, 1, 1, 5], [np.int64(3), 0.5, 1, 1, 5, np.int64(3), 0.5, 1, 1, 5], [np.int64(3), 0.5, 1, 1, 5, np.int64(5), 0.5, 1, 1, 5], [np.int64(3), 0.5, 1, 1, 5, np.int64(5), 0.5, 1, 1, 5], [np.int64(3), 0.5, 1, 1, 5, np.int64(5), 0.5, 1, 1, 5], [np.int64(3), 0.5, 1, 1, 5, np.int64(5), 0.5, 1, 1, 5], [np.int64(2), 0.5, 1, 1, 5, np.int64(5), 0.5, 1, 1, 5], [np.int64(4), 0.5, 1, 1, 5, np.int64(4), 0.5, 1, 1, 5], [np.int64(5), 0.5, 1, 1, 5, np.int64(5), 0.5, 1, 1, 5], [np.int64(3), 0.5, 1, 1, 5, np.int64(4), 0.5, 1, 1, 5], [np.int64(3), 0.5, 1, 1, 5, np.int64(5), 0.5, 1, 1, 5], [np.int64(3), 0.5, 1, 1, 5, np.int64(5), 0.5, 1, 1, 5], [np.int64(3), 0.5, 1, 1, 5, np.int64(3), 0.5, 1, 1, 5], [np.int64(5), 0.5, 1, 1, 5, np.int64(3), 0.5, 1, 1, 5], [np.int64(5), 0.5, 1, 1, 5, np.int64(4), 0.5, 1, 1, 5], [np.int64(4), 0.5, 1, 1, 5, np.int64(5), 0.5, 1, 1, 5], [np.int64(4), 0.5, 1, 1, 5, np.int64(5), 0.5, 1, 1, 5], [np.int64(3), 0.5, 1, 1, 5, np.int64(4), 0.5, 1, 1, 5], [np.int64(5), 0.5, 1, 1, 5, np.int64(5), 0.5, 1, 1, 5], [np.int64(3), 0.5, 1, 1, 5, np.int64(4), 0.5, 1, 1, 5], [np.int64(5), 0.5, 1, 1, 5, np.int64(3), 0.5, 1, 1, 5], [np.int64(3), 0.5, 1, 1, 5, np.int64(3), 0.5, 1, 1, 5], [np.int64(5), 0.5, 1, 1, 5, np.int64(5), 0.5, 1, 1, 5], [np.int64(3), 0.5, 1, 1, 5, np.int64(3), 0.5, 1, 1, 5]]\n"
     ]
    },
    {
     "name": "stderr",
     "output_type": "stream",
     "text": [
      "C:\\Users\\sirer\\AppData\\Local\\Temp\\ipykernel_40880\\1970339765.py:1: DeprecationWarning: Conversion of an array with ndim > 0 to a scalar is deprecated, and will error in future. Ensure you extract a single element from your array before performing this operation. (Deprecated NumPy 1.25.)\n",
      "  socUncliped = float(np.random.normal(5, .5, 1))\n"
     ]
    }
   ],
   "source": [
    "\n",
    "\n",
    "socUncliped = float(np.random.normal(5, .5, 1))\n",
    "print(socUncliped)\n",
    "soc = np.clip(socUncliped, 1,5)\n",
    "\n",
    "print(quals)\n",
    "\n"
   ]
  },
  {
   "cell_type": "code",
   "execution_count": 83,
   "id": "6405cef7",
   "metadata": {},
   "outputs": [
    {
     "data": {
      "text/plain": [
       "'affectionate: temperment'"
      ]
     },
     "execution_count": 83,
     "metadata": {},
     "output_type": "execute_result"
    }
   ],
   "source": [
    "\n",
    "\"age, weight, sex, neutered, socialability, temperment\"\n",
    "\n",
    "breed = list(df[\"Breed\"])\n",
    "\n",
    "def generate_dogs(num_dogs,breeds):\n",
    "    \n",
    "    dogs = []\n",
    "\n",
    "    for i in range(num_dogs):\n",
    "\n",
    "        varbreed = random.randint(0, 10)\n",
    "        qual  = quals[random.randint(0, 5)]\n",
    "        dog = []\n",
    "        dog.append(breed[varbreed])\n",
    "        dog.append(np.random.randint(1, 15))  # age\n",
    "        dog.append(np.random.randint(5, 100))  # weight\n",
    "        dog.append(random.choice([0, 1]))\n",
    "        dog.append(random.choice([0, 1]))\n",
    "\n",
    "        socUncliped = int(np.random.normal(qual[0], qual[1], qual[2]))\n",
    "        soc = np.clip(socUncliped, qual[3], qual[4])\n",
    "        dog.append(soc)\n",
    "        \n",
    "        tempUncliped = int(np.random.normal(qual[5], qual[6], qual[7]))\n",
    "        temp = np.clip(tempUncliped, qual[8], qual[9])\n",
    "        dog.append(temp)\n",
    "        \n",
    "\n",
    "        dogs.append(dog)\n",
    "\n",
    "    return dogs\n",
    "\n",
    "    \n",
    "        \n",
    "\n",
    "\n",
    "\"good with other dogs: socialability\"\n",
    "\"affectionate: temperment\""
   ]
  },
  {
   "cell_type": "code",
   "execution_count": 85,
   "id": "76728e2c",
   "metadata": {},
   "outputs": [
    {
     "name": "stderr",
     "output_type": "stream",
     "text": [
      "C:\\Users\\sirer\\AppData\\Local\\Temp\\ipykernel_40880\\1882006130.py:20: DeprecationWarning: Conversion of an array with ndim > 0 to a scalar is deprecated, and will error in future. Ensure you extract a single element from your array before performing this operation. (Deprecated NumPy 1.25.)\n",
      "  socUncliped = int(np.random.normal(qual[0], qual[1], qual[2]))\n",
      "C:\\Users\\sirer\\AppData\\Local\\Temp\\ipykernel_40880\\1882006130.py:24: DeprecationWarning: Conversion of an array with ndim > 0 to a scalar is deprecated, and will error in future. Ensure you extract a single element from your array before performing this operation. (Deprecated NumPy 1.25.)\n",
      "  tempUncliped = int(np.random.normal(qual[5], qual[6], qual[7]))\n"
     ]
    },
    {
     "data": {
      "text/plain": [
       "[['Beagles', 1, 78, 1, 1, np.int64(5), np.int64(5)],\n",
       " ['German\\xa0Shepherd\\xa0Dogs', 1, 97, 0, 0, np.int64(5), np.int64(5)],\n",
       " ['Retrievers\\xa0(Golden)', 9, 67, 0, 1, np.int64(3), np.int64(4)],\n",
       " ['German\\xa0Shepherd\\xa0Dogs', 12, 60, 0, 1, np.int64(2), np.int64(4)],\n",
       " ['Retrievers\\xa0(Golden)', 4, 30, 1, 1, np.int64(3), np.int64(3)],\n",
       " ['French\\xa0Bulldogs', 8, 24, 1, 1, np.int64(2), np.int64(5)],\n",
       " ['Pointers\\xa0(German\\xa0Shorthaired)',\n",
       "  5,\n",
       "  71,\n",
       "  1,\n",
       "  1,\n",
       "  np.int64(2),\n",
       "  np.int64(2)],\n",
       " ['Rottweilers', 12, 15, 1, 0, np.int64(3), np.int64(5)],\n",
       " ['Beagles', 2, 99, 0, 1, np.int64(2), np.int64(3)],\n",
       " ['Poodles', 11, 60, 1, 1, np.int64(3), np.int64(3)],\n",
       " ['Bulldogs', 3, 64, 0, 0, np.int64(3), np.int64(3)],\n",
       " ['Dachshunds', 13, 48, 0, 1, np.int64(4), np.int64(5)],\n",
       " ['Dachshunds', 13, 48, 1, 0, np.int64(4), np.int64(4)],\n",
       " ['Poodles', 3, 30, 1, 0, np.int64(2), np.int64(5)],\n",
       " ['Retrievers\\xa0(Golden)', 11, 98, 1, 0, np.int64(5), np.int64(5)],\n",
       " ['Rottweilers', 8, 86, 0, 1, np.int64(4), np.int64(5)],\n",
       " ['French\\xa0Bulldogs', 14, 67, 1, 1, np.int64(5), np.int64(4)],\n",
       " ['Rottweilers', 12, 74, 0, 1, np.int64(3), np.int64(4)],\n",
       " ['Retrievers\\xa0(Labrador)', 3, 5, 1, 0, np.int64(3), np.int64(3)],\n",
       " ['Beagles', 12, 29, 0, 0, np.int64(3), np.int64(4)],\n",
       " ['Rottweilers', 6, 19, 1, 1, np.int64(5), np.int64(4)],\n",
       " ['Rottweilers', 2, 86, 0, 1, np.int64(4), np.int64(5)],\n",
       " ['Retrievers\\xa0(Labrador)', 9, 20, 1, 0, np.int64(3), np.int64(5)],\n",
       " ['German\\xa0Shepherd\\xa0Dogs', 11, 83, 1, 0, np.int64(1), np.int64(4)],\n",
       " ['Rottweilers', 14, 86, 1, 0, np.int64(3), np.int64(4)],\n",
       " ['Pembroke\\xa0Welsh\\xa0Corgis', 14, 39, 1, 0, np.int64(5), np.int64(5)],\n",
       " ['Poodles', 5, 84, 0, 0, np.int64(3), np.int64(5)],\n",
       " ['Poodles', 10, 61, 0, 0, np.int64(3), np.int64(4)],\n",
       " ['Pointers\\xa0(German\\xa0Shorthaired)',\n",
       "  8,\n",
       "  40,\n",
       "  0,\n",
       "  1,\n",
       "  np.int64(3),\n",
       "  np.int64(4)],\n",
       " ['German\\xa0Shepherd\\xa0Dogs', 14, 10, 0, 0, np.int64(4), np.int64(4)],\n",
       " ['French\\xa0Bulldogs', 12, 70, 1, 0, np.int64(1), np.int64(4)],\n",
       " ['Retrievers\\xa0(Labrador)', 8, 88, 0, 1, np.int64(1), np.int64(4)],\n",
       " ['German\\xa0Shepherd\\xa0Dogs', 2, 19, 1, 1, np.int64(2), np.int64(4)],\n",
       " ['Poodles', 12, 34, 0, 1, np.int64(3), np.int64(4)],\n",
       " ['Dachshunds', 2, 95, 1, 1, np.int64(5), np.int64(3)],\n",
       " ['Pointers\\xa0(German\\xa0Shorthaired)',\n",
       "  14,\n",
       "  64,\n",
       "  1,\n",
       "  0,\n",
       "  np.int64(2),\n",
       "  np.int64(5)],\n",
       " ['Rottweilers', 9, 53, 0, 1, np.int64(4), np.int64(4)],\n",
       " ['Retrievers\\xa0(Labrador)', 1, 69, 1, 0, np.int64(2), np.int64(4)],\n",
       " ['Pointers\\xa0(German\\xa0Shorthaired)',\n",
       "  12,\n",
       "  69,\n",
       "  0,\n",
       "  0,\n",
       "  np.int64(3),\n",
       "  np.int64(4)],\n",
       " ['Retrievers\\xa0(Golden)', 6, 87, 1, 0, np.int64(5), np.int64(5)],\n",
       " ['Pointers\\xa0(German\\xa0Shorthaired)',\n",
       "  14,\n",
       "  82,\n",
       "  1,\n",
       "  1,\n",
       "  np.int64(5),\n",
       "  np.int64(4)],\n",
       " ['Pointers\\xa0(German\\xa0Shorthaired)',\n",
       "  12,\n",
       "  22,\n",
       "  1,\n",
       "  0,\n",
       "  np.int64(2),\n",
       "  np.int64(5)],\n",
       " ['Rottweilers', 3, 36, 0, 1, np.int64(2), np.int64(4)],\n",
       " ['Beagles', 9, 51, 1, 1, np.int64(3), np.int64(4)],\n",
       " ['Bulldogs', 7, 90, 0, 1, np.int64(3), np.int64(5)],\n",
       " ['French\\xa0Bulldogs', 13, 80, 1, 1, np.int64(3), np.int64(5)],\n",
       " ['Poodles', 1, 67, 1, 1, np.int64(2), np.int64(4)],\n",
       " ['Pembroke\\xa0Welsh\\xa0Corgis', 11, 53, 0, 0, np.int64(3), np.int64(5)],\n",
       " ['Bulldogs', 9, 13, 1, 0, np.int64(3), np.int64(5)],\n",
       " ['Bulldogs', 10, 36, 0, 1, np.int64(3), np.int64(5)]]"
      ]
     },
     "execution_count": 85,
     "metadata": {},
     "output_type": "execute_result"
    }
   ],
   "source": [
    "numDogs = 50\n",
    "breeds = random.randint(0, 10)\n",
    "\n",
    "d = generate_dogs(numDogs, breeds)\n",
    "d\n",
    "\n"
   ]
  }
 ],
 "metadata": {
  "kernelspec": {
   "display_name": "Python 3",
   "language": "python",
   "name": "python3"
  },
  "language_info": {
   "codemirror_mode": {
    "name": "ipython",
    "version": 3
   },
   "file_extension": ".py",
   "mimetype": "text/x-python",
   "name": "python",
   "nbconvert_exporter": "python",
   "pygments_lexer": "ipython3",
   "version": "3.13.3"
  }
 },
 "nbformat": 4,
 "nbformat_minor": 5
}
